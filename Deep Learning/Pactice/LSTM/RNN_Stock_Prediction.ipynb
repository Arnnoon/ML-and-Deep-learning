{
  "cells": [
    {
      "cell_type": "code",
      "execution_count": null,
      "metadata": {
        "id": "ZPprXVJd_Fnl"
      },
      "outputs": [],
      "source": [
        "#Explained in https://towardsdatascience.com/lstm-for-google-stock-price-prediction-e35f5cc84165\n",
        "import numpy as np\n",
        "import matplotlib.pyplot as plt \n",
        "import pandas as pd\n",
        "dataset_train = pd.read_csv(\"/content/Google_Stock_Price_Train.csv\")\n",
        "#keras only takes numpy array\n",
        "training_set = dataset_train.iloc[:, 1: 2].values"
      ]
    },
    {
      "cell_type": "code",
      "execution_count": null,
      "metadata": {
        "id": "_F1vAhwh_KQP"
      },
      "outputs": [],
      "source": [
        "from sklearn.preprocessing import MinMaxScaler\n",
        "sc = MinMaxScaler(feature_range = (0, 1))\n",
        "training_set_scaled = sc.fit_transform(training_set)"
      ]
    },
    {
      "cell_type": "code",
      "execution_count": null,
      "metadata": {
        "id": "azULJVUH_RSR"
      },
      "outputs": [],
      "source": [
        "X_train = []\n",
        "y_train = []\n",
        "for i in range(60, len(training_set_scaled)):\n",
        "    X_train.append(training_set_scaled[i-60: i, 0])\n",
        "    y_train.append(training_set_scaled[i, 0])\n",
        "X_train, y_train = np.array(X_train), np.array(y_train)"
      ]
    },
    {
      "cell_type": "code",
      "execution_count": null,
      "metadata": {
        "id": "UZplqocQ_WlM"
      },
      "outputs": [],
      "source": [
        "X_train = np.reshape(X_train, newshape = (X_train.shape[0], X_train.shape[1], 1))"
      ]
    },
    {
      "cell_type": "code",
      "execution_count": null,
      "metadata": {
        "id": "HOZxv-hJ_ZAa"
      },
      "outputs": [],
      "source": [
        "from keras.models import Sequential \n",
        "from keras.layers import Dense, LSTM, Dropout\n",
        "regressor = Sequential()"
      ]
    },
    {
      "cell_type": "code",
      "execution_count": null,
      "metadata": {
        "id": "3rS2mj7D_byM"
      },
      "outputs": [],
      "source": [
        "regressor.add(LSTM(units = 50, return_sequences = True, input_shape = (X_train.shape[1], 1)))\n",
        "regressor.add(Dropout(rate = 0.2))"
      ]
    },
    {
      "cell_type": "code",
      "execution_count": null,
      "metadata": {
        "id": "2B0L9S9N_ekj"
      },
      "outputs": [],
      "source": [
        "##add 2nd lstm layer\n",
        "regressor.add(LSTM(units = 50, return_sequences = True))\n",
        "regressor.add(Dropout(rate = 0.2))\n",
        "##add 3rd lstm layer\n",
        "regressor.add(LSTM(units = 50, return_sequences = True))\n",
        "regressor.add(Dropout(rate = 0.2))\n",
        "##add 4th lstm layer\n",
        "regressor.add(LSTM(units = 50, return_sequences = False))\n",
        "regressor.add(Dropout(rate = 0.2))"
      ]
    },
    {
      "cell_type": "code",
      "execution_count": null,
      "metadata": {
        "id": "jnuKA4WJ_g39"
      },
      "outputs": [],
      "source": [
        "regressor.add(Dense(units = 1))"
      ]
    },
    {
      "cell_type": "code",
      "execution_count": null,
      "metadata": {
        "id": "QEmP1UoI_ixt"
      },
      "outputs": [],
      "source": [
        "regressor.compile(optimizer = \"adam\", loss = \"mean_squared_error\")"
      ]
    },
    {
      "cell_type": "code",
      "execution_count": null,
      "metadata": {
        "colab": {
          "base_uri": "https://localhost:8080/"
        },
        "id": "hNZtZAsz_k3X",
        "outputId": "7142bac3-1260-4546-e3c9-aefe44f7dbe7"
      },
      "outputs": [
        {
          "name": "stdout",
          "output_type": "stream",
          "text": [
            "Epoch 1/100\n",
            "38/38 [==============================] - 13s 19ms/step - loss: 0.0357\n",
            "Epoch 2/100\n",
            "38/38 [==============================] - 1s 22ms/step - loss: 0.0062\n",
            "Epoch 3/100\n",
            "38/38 [==============================] - 1s 21ms/step - loss: 0.0059\n",
            "Epoch 4/100\n",
            "38/38 [==============================] - 1s 27ms/step - loss: 0.0059\n",
            "Epoch 5/100\n",
            "38/38 [==============================] - 1s 25ms/step - loss: 0.0057\n",
            "Epoch 6/100\n",
            "38/38 [==============================] - 1s 13ms/step - loss: 0.0050\n",
            "Epoch 7/100\n",
            "38/38 [==============================] - 1s 13ms/step - loss: 0.0047\n",
            "Epoch 8/100\n",
            "38/38 [==============================] - 1s 13ms/step - loss: 0.0048\n",
            "Epoch 9/100\n",
            "38/38 [==============================] - 1s 14ms/step - loss: 0.0044\n",
            "Epoch 10/100\n",
            "38/38 [==============================] - 1s 18ms/step - loss: 0.0038\n",
            "Epoch 11/100\n",
            "38/38 [==============================] - 1s 18ms/step - loss: 0.0044\n",
            "Epoch 12/100\n",
            "38/38 [==============================] - 1s 19ms/step - loss: 0.0043\n",
            "Epoch 13/100\n",
            "38/38 [==============================] - 1s 15ms/step - loss: 0.0034\n",
            "Epoch 14/100\n",
            "38/38 [==============================] - 1s 13ms/step - loss: 0.0037\n",
            "Epoch 15/100\n",
            "38/38 [==============================] - 0s 13ms/step - loss: 0.0037\n",
            "Epoch 16/100\n",
            "38/38 [==============================] - 0s 13ms/step - loss: 0.0036\n",
            "Epoch 17/100\n",
            "38/38 [==============================] - 0s 12ms/step - loss: 0.0049\n",
            "Epoch 18/100\n",
            "38/38 [==============================] - 1s 13ms/step - loss: 0.0035\n",
            "Epoch 19/100\n",
            "38/38 [==============================] - 1s 13ms/step - loss: 0.0033\n",
            "Epoch 20/100\n",
            "38/38 [==============================] - 0s 13ms/step - loss: 0.0037\n",
            "Epoch 21/100\n",
            "38/38 [==============================] - 0s 13ms/step - loss: 0.0038\n",
            "Epoch 22/100\n",
            "38/38 [==============================] - 1s 13ms/step - loss: 0.0037\n",
            "Epoch 23/100\n",
            "38/38 [==============================] - 0s 13ms/step - loss: 0.0033\n",
            "Epoch 24/100\n",
            "38/38 [==============================] - 0s 13ms/step - loss: 0.0030\n",
            "Epoch 25/100\n",
            "38/38 [==============================] - 0s 12ms/step - loss: 0.0038\n",
            "Epoch 26/100\n",
            "38/38 [==============================] - 0s 13ms/step - loss: 0.0030\n",
            "Epoch 27/100\n",
            "38/38 [==============================] - 0s 13ms/step - loss: 0.0031\n",
            "Epoch 28/100\n",
            "38/38 [==============================] - 0s 13ms/step - loss: 0.0033\n",
            "Epoch 29/100\n",
            "38/38 [==============================] - 0s 13ms/step - loss: 0.0038\n",
            "Epoch 30/100\n",
            "38/38 [==============================] - 1s 13ms/step - loss: 0.0027\n",
            "Epoch 31/100\n",
            "38/38 [==============================] - 1s 13ms/step - loss: 0.0031\n",
            "Epoch 32/100\n",
            "38/38 [==============================] - 1s 13ms/step - loss: 0.0031\n",
            "Epoch 33/100\n",
            "38/38 [==============================] - 1s 15ms/step - loss: 0.0033\n",
            "Epoch 34/100\n",
            "38/38 [==============================] - 1s 17ms/step - loss: 0.0027\n",
            "Epoch 35/100\n",
            "38/38 [==============================] - 1s 17ms/step - loss: 0.0029\n",
            "Epoch 36/100\n",
            "38/38 [==============================] - 1s 18ms/step - loss: 0.0029\n",
            "Epoch 37/100\n",
            "38/38 [==============================] - 1s 13ms/step - loss: 0.0028\n",
            "Epoch 38/100\n",
            "38/38 [==============================] - 0s 13ms/step - loss: 0.0024\n",
            "Epoch 39/100\n",
            "38/38 [==============================] - 1s 14ms/step - loss: 0.0025\n",
            "Epoch 40/100\n",
            "38/38 [==============================] - 1s 13ms/step - loss: 0.0026\n",
            "Epoch 41/100\n",
            "38/38 [==============================] - 0s 13ms/step - loss: 0.0026\n",
            "Epoch 42/100\n",
            "38/38 [==============================] - 0s 13ms/step - loss: 0.0025\n",
            "Epoch 43/100\n",
            "38/38 [==============================] - 1s 13ms/step - loss: 0.0024\n",
            "Epoch 44/100\n",
            "38/38 [==============================] - 1s 14ms/step - loss: 0.0028\n",
            "Epoch 45/100\n",
            "38/38 [==============================] - 1s 13ms/step - loss: 0.0024\n",
            "Epoch 46/100\n",
            "38/38 [==============================] - 0s 12ms/step - loss: 0.0025\n",
            "Epoch 47/100\n",
            "38/38 [==============================] - 0s 13ms/step - loss: 0.0025\n",
            "Epoch 48/100\n",
            "38/38 [==============================] - 1s 13ms/step - loss: 0.0023\n",
            "Epoch 49/100\n",
            "38/38 [==============================] - 0s 13ms/step - loss: 0.0023\n",
            "Epoch 50/100\n",
            "38/38 [==============================] - 0s 13ms/step - loss: 0.0021\n",
            "Epoch 51/100\n",
            "38/38 [==============================] - 1s 13ms/step - loss: 0.0025\n",
            "Epoch 52/100\n",
            "38/38 [==============================] - 1s 13ms/step - loss: 0.0023\n",
            "Epoch 53/100\n",
            "38/38 [==============================] - 1s 14ms/step - loss: 0.0023\n",
            "Epoch 54/100\n",
            "38/38 [==============================] - 1s 13ms/step - loss: 0.0023\n",
            "Epoch 55/100\n",
            "38/38 [==============================] - 0s 12ms/step - loss: 0.0021\n",
            "Epoch 56/100\n",
            "38/38 [==============================] - 0s 13ms/step - loss: 0.0024\n",
            "Epoch 57/100\n",
            "38/38 [==============================] - 1s 18ms/step - loss: 0.0024\n",
            "Epoch 58/100\n",
            "38/38 [==============================] - 1s 19ms/step - loss: 0.0029\n",
            "Epoch 59/100\n",
            "38/38 [==============================] - 1s 18ms/step - loss: 0.0023\n",
            "Epoch 60/100\n",
            "38/38 [==============================] - 1s 15ms/step - loss: 0.0021\n",
            "Epoch 61/100\n",
            "38/38 [==============================] - 0s 13ms/step - loss: 0.0021\n",
            "Epoch 62/100\n",
            "38/38 [==============================] - 1s 13ms/step - loss: 0.0020\n",
            "Epoch 63/100\n",
            "38/38 [==============================] - 1s 13ms/step - loss: 0.0019\n",
            "Epoch 64/100\n",
            "38/38 [==============================] - 0s 13ms/step - loss: 0.0019\n",
            "Epoch 65/100\n",
            "38/38 [==============================] - 1s 16ms/step - loss: 0.0019\n",
            "Epoch 66/100\n",
            "38/38 [==============================] - 1s 27ms/step - loss: 0.0021\n",
            "Epoch 67/100\n",
            "38/38 [==============================] - 1s 23ms/step - loss: 0.0018\n",
            "Epoch 68/100\n",
            "38/38 [==============================] - 1s 13ms/step - loss: 0.0020\n",
            "Epoch 69/100\n",
            "38/38 [==============================] - 0s 13ms/step - loss: 0.0020\n",
            "Epoch 70/100\n",
            "38/38 [==============================] - 0s 13ms/step - loss: 0.0018\n",
            "Epoch 71/100\n",
            "38/38 [==============================] - 0s 13ms/step - loss: 0.0019\n",
            "Epoch 72/100\n",
            "38/38 [==============================] - 0s 13ms/step - loss: 0.0018\n",
            "Epoch 73/100\n",
            "38/38 [==============================] - 0s 13ms/step - loss: 0.0018\n",
            "Epoch 74/100\n",
            "38/38 [==============================] - 0s 13ms/step - loss: 0.0017\n",
            "Epoch 75/100\n",
            "38/38 [==============================] - 1s 13ms/step - loss: 0.0019\n",
            "Epoch 76/100\n",
            "38/38 [==============================] - 0s 13ms/step - loss: 0.0018\n",
            "Epoch 77/100\n",
            "38/38 [==============================] - 1s 13ms/step - loss: 0.0018\n",
            "Epoch 78/100\n",
            "38/38 [==============================] - 1s 16ms/step - loss: 0.0021\n",
            "Epoch 79/100\n",
            "38/38 [==============================] - 1s 20ms/step - loss: 0.0018\n",
            "Epoch 80/100\n",
            "38/38 [==============================] - 1s 18ms/step - loss: 0.0018\n",
            "Epoch 81/100\n",
            "38/38 [==============================] - 1s 17ms/step - loss: 0.0016\n",
            "Epoch 82/100\n",
            "38/38 [==============================] - 0s 12ms/step - loss: 0.0015\n",
            "Epoch 83/100\n",
            "38/38 [==============================] - 0s 12ms/step - loss: 0.0017\n",
            "Epoch 84/100\n",
            "38/38 [==============================] - 0s 13ms/step - loss: 0.0017\n",
            "Epoch 85/100\n",
            "38/38 [==============================] - 0s 13ms/step - loss: 0.0016\n",
            "Epoch 86/100\n",
            "38/38 [==============================] - 0s 13ms/step - loss: 0.0016\n",
            "Epoch 87/100\n",
            "38/38 [==============================] - 0s 12ms/step - loss: 0.0017\n",
            "Epoch 88/100\n",
            "38/38 [==============================] - 0s 12ms/step - loss: 0.0014\n",
            "Epoch 89/100\n",
            "38/38 [==============================] - 0s 13ms/step - loss: 0.0014\n",
            "Epoch 90/100\n",
            "38/38 [==============================] - 0s 13ms/step - loss: 0.0016\n",
            "Epoch 91/100\n",
            "38/38 [==============================] - 0s 13ms/step - loss: 0.0015\n",
            "Epoch 92/100\n",
            "38/38 [==============================] - 0s 13ms/step - loss: 0.0014\n",
            "Epoch 93/100\n",
            "38/38 [==============================] - 0s 13ms/step - loss: 0.0014\n",
            "Epoch 94/100\n",
            "38/38 [==============================] - 1s 13ms/step - loss: 0.0015\n",
            "Epoch 95/100\n",
            "38/38 [==============================] - 1s 13ms/step - loss: 0.0014\n",
            "Epoch 96/100\n",
            "38/38 [==============================] - 1s 14ms/step - loss: 0.0016\n",
            "Epoch 97/100\n",
            "38/38 [==============================] - 0s 13ms/step - loss: 0.0014\n",
            "Epoch 98/100\n",
            "38/38 [==============================] - 1s 14ms/step - loss: 0.0014\n",
            "Epoch 99/100\n",
            "38/38 [==============================] - 1s 14ms/step - loss: 0.0014\n",
            "Epoch 100/100\n",
            "38/38 [==============================] - 0s 13ms/step - loss: 0.0014\n"
          ]
        },
        {
          "data": {
            "text/plain": [
              "<keras.callbacks.History at 0x7eff6d2db400>"
            ]
          },
          "execution_count": 18,
          "metadata": {},
          "output_type": "execute_result"
        }
      ],
      "source": [
        "regressor.fit(x = X_train, y = y_train, batch_size = 32, epochs = 100)"
      ]
    },
    {
      "cell_type": "code",
      "execution_count": null,
      "metadata": {
        "id": "cBvxfV-e_nvG"
      },
      "outputs": [],
      "source": [
        "dataset_test = pd.read_csv(\"/content/Google_Stock_Price_Train.csv\")\n",
        "real_stock_price = dataset_test.iloc[:, 1: 2].values"
      ]
    },
    {
      "cell_type": "code",
      "execution_count": null,
      "metadata": {
        "id": "57aNj1IT_qtH"
      },
      "outputs": [],
      "source": [
        "dataset_total = pd.concat((dataset_train[\"Open\"],dataset_test[\"Open\"]), axis = 0)"
      ]
    },
    {
      "cell_type": "code",
      "execution_count": null,
      "metadata": {
        "id": "aM9mLAWM_x2a"
      },
      "outputs": [],
      "source": [
        "inputs = dataset_total[len(dataset_total)-len(dataset_test)- 60: ].values\n",
        "inputs = inputs.reshape(-1, 1)\n",
        "inputs = sc.transform(inputs)"
      ]
    },
    {
      "cell_type": "code",
      "execution_count": null,
      "metadata": {
        "id": "FqxEir2k_yBg"
      },
      "outputs": [],
      "source": [
        "X_test = []\n",
        "for i in range(60, len(inputs)): \n",
        "    X_test.append(inputs[i-60: i, 0])\n",
        "X_test = np.array(X_test)\n",
        "#make numpy array as 3D , adding num of indicator\n",
        "X_test = np.reshape(X_test, newshape = (X_test.shape[0],  \n",
        "                        X_test.shape[1], 1))"
      ]
    },
    {
      "cell_type": "code",
      "execution_count": null,
      "metadata": {
        "colab": {
          "base_uri": "https://localhost:8080/"
        },
        "id": "DDInFBZD_yHo",
        "outputId": "d2a83ac6-cec6-4c5e-a2e5-307c69a1bf46"
      },
      "outputs": [
        {
          "name": "stdout",
          "output_type": "stream",
          "text": [
            "40/40 [==============================] - 0s 7ms/step\n"
          ]
        }
      ],
      "source": [
        "predicted_stock_price = regressor.predict(X_test)"
      ]
    },
    {
      "cell_type": "code",
      "execution_count": null,
      "metadata": {
        "id": "HkFpykrb_yKt"
      },
      "outputs": [],
      "source": [
        "predicted_stock_price = sc.inverse_transform(predicted_stock_price)"
      ]
    },
    {
      "cell_type": "code",
      "execution_count": null,
      "metadata": {
        "colab": {
          "base_uri": "https://localhost:8080/",
          "height": 472
        },
        "id": "MthVWbay_yOW",
        "outputId": "eaa8d508-e886-461c-c7d4-ccf12ca84a5a"
      },
      "outputs": [
        {
          "data": {
            "image/png": "[encoded data removed]",
            "text/plain": [
              "<Figure size 640x480 with 1 Axes>"
            ]
          },
          "metadata": {},
          "output_type": "display_data"
        }
      ],
      "source": [
        "from matplotlib import pyplot as plt\n",
        "plt.plot(real_stock_price, color = \"red\", label = \"Real price\")\n",
        "plt.plot(predicted_stock_price, color = \"blue\", label = \"Predicted price\")\n",
        "plt.title(\"Google price prediction\")\n",
        "plt.xlabel(\"Time\")\n",
        "plt.ylabel(\"Price\")\n",
        "plt.legend()\n",
        "plt.show()"
      ]
    },
    {
      "cell_type": "code",
      "execution_count": 2,
      "metadata": {
        "colab": {
          "base_uri": "https://localhost:8080/"
        },
        "id": "UVgWvWnL8k0Y",
        "outputId": "09ecbd26-96d3-4826-ad3c-5e16f7cffdc0"
      },
      "outputs": [
        {
          "name": "stderr",
          "output_type": "stream",
          "text": [
            "C:\\Users\\Aun\\AppData\\Local\\Packages\\PythonSoftwareFoundation.Python.3.10_qbz5n2kfra8p0\\LocalCache\\local-packages\\Python310\\site-packages\\sklearn\\preprocessing\\_encoders.py:868: FutureWarning: `sparse` was renamed to `sparse_output` in version 1.2 and will be removed in 1.4. `sparse_output` is ignored unless you leave `sparse` to its default value.\n",
            "  warnings.warn(\n"
          ]
        },
        {
          "name": "stdout",
          "output_type": "stream",
          "text": [
            "Epoch 1/5\n",
            "4539/4539 [==============================] - 266s 57ms/step - loss: 1.6988e-05\n",
            "Epoch 2/5\n",
            "4539/4539 [==============================] - 266s 59ms/step - loss: 9.6077e-06\n",
            "Epoch 3/5\n",
            "4539/4539 [==============================] - 267s 59ms/step - loss: 9.0037e-06\n",
            "Epoch 4/5\n",
            "4539/4539 [==============================] - 268s 59ms/step - loss: 8.5553e-06\n",
            "Epoch 5/5\n",
            "4539/4539 [==============================] - 275s 60ms/step - loss: 8.4013e-06\n"
          ]
        },
        {
          "data": {
            "text/plain": [
              "<keras.callbacks.History at 0x2856ecc9a20>"
            ]
          },
          "execution_count": 2,
          "metadata": {},
          "output_type": "execute_result"
        }
      ],
      "source": [
        "import numpy as np\n",
        "import matplotlib.pyplot as plt\n",
        "import pandas as pd\n",
        "from sklearn.preprocessing import OneHotEncoder, MinMaxScaler\n",
        "from keras.models import Sequential\n",
        "from keras.layers import Dense, LSTM, Dropout\n",
        "\n",
        "# Read the CSV file\n",
        "df = pd.read_csv(\"forex.csv\")\n",
        "\n",
        "# Extract the features and target variable\n",
        "features = df.iloc[:, [2, 4, 5]].values  # Columns: open, low, close\n",
        "currency = df.iloc[:, 6].values  # Column: currency\n",
        "target = df.iloc[:, 3].values  # Column: high\n",
        "\n",
        "# Get only the first twenty percent of the dataset\n",
        "total_rows = df.shape[0]\n",
        "twenty_percent = int(0.1 * total_rows)\n",
        "\n",
        "features = features[:twenty_percent]\n",
        "currency = currency[:twenty_percent]\n",
        "target = target[:twenty_percent]\n",
        "\n",
        "# Perform one-hot encoding for the currency column\n",
        "encoder = OneHotEncoder(sparse=False)\n",
        "currency_encoded = encoder.fit_transform(currency.reshape(-1, 1))\n",
        "\n",
        "# Concatenate the features and currency_encoded arrays\n",
        "features_encoded = np.concatenate((features, currency_encoded), axis=1)\n",
        "\n",
        "# Feature scaling\n",
        "sc = MinMaxScaler(feature_range=(0, 1))\n",
        "features_scaled = sc.fit_transform(features_encoded)\n",
        "target_scaled = sc.fit_transform(target.reshape(-1, 1))\n",
        "\n",
        "# Create the input sequences\n",
        "sequence_length = 60\n",
        "X_train = []\n",
        "y_train = []\n",
        "for i in range(sequence_length, len(features_scaled)):\n",
        "    X_train.append(features_scaled[i-sequence_length:i, :])\n",
        "    y_train.append(target_scaled[i, 0])\n",
        "X_train, y_train = np.array(X_train), np.array(y_train)\n",
        "\n",
        "# Reshape the input sequences\n",
        "X_train = np.reshape(X_train, (X_train.shape[0], X_train.shape[1], X_train.shape[2]))\n",
        "\n",
        "# Build the LSTM model\n",
        "regressor = Sequential()\n",
        "regressor.add(LSTM(units=50, return_sequences=True, input_shape=(X_train.shape[1], X_train.shape[2])))\n",
        "regressor.add(Dropout(rate=0.2))\n",
        "regressor.add(LSTM(units=30, return_sequences=True))\n",
        "regressor.add(Dropout(rate=0.2))\n",
        "regressor.add(LSTM(units=30, return_sequences=True))\n",
        "regressor.add(Dropout(rate=0.2))\n",
        "regressor.add(LSTM(units=30, return_sequences=False))\n",
        "regressor.add(Dropout(rate=0.2))\n",
        "regressor.add(Dense(units=1))\n",
        "\n",
        "# Compile and fit the model\n",
        "regressor.compile(optimizer='adam', loss='mean_squared_error')\n",
        "regressor.fit(X_train, y_train, batch_size=32, epochs=111)"
      ]
    },
    {
      "cell_type": "code",
      "execution_count": 23,
      "metadata": {
        "id": "Ko6JOK6O0IuA"
      },
      "outputs": [
        {
          "name": "stdout",
          "output_type": "stream",
          "text": [
            "1/1 [==============================] - 0s 29ms/step\n"
          ]
        },
        {
          "data": {
            "image/png": "[encoded data removed]",
            "text/plain": [
              "<Figure size 640x480 with 1 Axes>"
            ]
          },
          "metadata": {},
          "output_type": "display_data"
        }
      ],
      "source": [
        "# Prepare the test data (using training data as test data)\n",
        "test_features = features_scaled\n",
        "X_test = np.array([test_features[-sequence_length:]])\n",
        "X_test = np.reshape(X_test, (X_test.shape[0], X_test.shape[1], X_test.shape[2]))\n",
        "\n",
        "# Make predictions on the test data (training data)\n",
        "predicted_scaled = regressor.predict(X_test)\n",
        "predicted = sc.inverse_transform(predicted_scaled)\n",
        "\n",
        "# Plot the results\n",
        "plt.plot(target[-sequence_length:], color='red', label='Real high')\n",
        "plt.plot(predicted, color='blue', label='Predicted high')\n",
        "plt.title('Forex Price Prediction')\n",
        "plt.xlabel('Time')\n",
        "plt.ylabel('Price')\n",
        "plt.legend()\n",
        "plt.show()\n"
      ]
    },
    {
      "cell_type": "code",
      "execution_count": 22,
      "metadata": {},
      "outputs": [
        {
          "data": {
            "text/plain": [
              "array([13.1281, 12.9669, 12.9673, 13.0454, 13.0191, 13.007 , 13.0109,\n",
              "       13.063 , 13.17  , 13.143 , 13.165 , 13.2435, 13.327 , 13.336 ,\n",
              "       13.584 , 13.6364, 13.5506, 13.499 , 13.444 , 13.1661, 13.09  ,\n",
              "       13.1023, 13.154 , 13.1562, 13.0998, 13.141 , 13.0635, 12.9763,\n",
              "       12.9867, 13.2091, 13.2696, 13.264 , 13.3302, 13.3852, 13.321 ,\n",
              "       13.398 , 13.428 , 13.3878, 13.359 , 13.4132, 13.3108, 13.273 ,\n",
              "       13.281 , 13.2555, 13.2806, 13.2523, 13.242 , 13.2447, 13.2635,\n",
              "       13.2521, 13.3707, 13.303 , 13.371 , 13.482 , 13.4541, 13.462 ,\n",
              "       13.4549, 13.48  , 13.4531, 13.477 ])"
            ]
          },
          "execution_count": 22,
          "metadata": {},
          "output_type": "execute_result"
        }
      ],
      "source": [
        "target[-sequence_length:]"
      ]
    },
    {
      "cell_type": "code",
      "execution_count": 21,
      "metadata": {},
      "outputs": [
        {
          "data": {
            "text/plain": [
              "(1, 1)"
            ]
          },
          "execution_count": 21,
          "metadata": {},
          "output_type": "execute_result"
        }
      ],
      "source": [
        "predicted.shape"
      ]
    }
  ],
  "metadata": {
    "accelerator": "GPU",
    "colab": {
      "provenance": [],
      "toc_visible": true
    },
    "kernelspec": {
      "display_name": "Python 3",
      "name": "python3"
    },
    "language_info": {
      "codemirror_mode": {
        "name": "ipython",
        "version": 3
      },
      "file_extension": ".py",
      "mimetype": "text/x-python",
      "name": "python",
      "nbconvert_exporter": "python",
      "pygments_lexer": "ipython3",
      "version": "3.10.11"
    }
  },
  "nbformat": 4,
  "nbformat_minor": 0
}
