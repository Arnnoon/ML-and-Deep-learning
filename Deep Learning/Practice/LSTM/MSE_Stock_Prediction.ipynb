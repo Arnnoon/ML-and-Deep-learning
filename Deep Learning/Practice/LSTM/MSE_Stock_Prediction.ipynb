{
  "nbformat": 4,
  "nbformat_minor": 0,
  "metadata": {
    "colab": {
      "provenance": []
    },
    "kernelspec": {
      "name": "python3",
      "display_name": "Python 3"
    },
    "language_info": {
      "name": "python"
    }
  },
  "cells": [
    {
      "cell_type": "code",
      "execution_count": null,
      "metadata": {
        "id": "ZZBX0i8Xjs0z"
      },
      "outputs": [],
      "source": [
        "import pandas as pd\n",
        "import numpy as np\n",
        "import matplotlib.pyplot as plt\n",
        "from sklearn.preprocessing import MinMaxScaler\n",
        "from tensorflow.keras.models import Sequential\n",
        "from tensorflow.keras.layers import LSTM, Dense\n",
        "from tensorflow.keras.optimizers import Adam"
      ]
    },
    {
      "cell_type": "code",
      "source": [
        "# Load the dataset\n",
        "data = pd.read_csv('stock_prices.csv')\n",
        "data['Close'] = data['Close'].fillna(data['Close'].mean())\n",
        "\n",
        "\n",
        "# Extract the closing prices\n",
        "prices = data['Close'].values.reshape(-1, 1)\n",
        "\n",
        "# Normalize the data\n",
        "scaler = MinMaxScaler(feature_range=(0, 1))\n",
        "normalized_prices = scaler.fit_transform(prices)\n"
      ],
      "metadata": {
        "colab": {
          "base_uri": "https://localhost:8080/"
        },
        "id": "rs-LygCqjv5A",
        "outputId": "f33324cd-b547-4d5f-92dd-7add2d44150a"
      },
      "execution_count": null,
      "outputs": [
        {
          "output_type": "stream",
          "name": "stderr",
          "text": [
            "<ipython-input-21-413709593cf6>:2: DtypeWarning: Columns (10) have mixed types. Specify dtype option on import or set low_memory=False.\n",
            "  data = pd.read_csv('stock_prices.csv')\n"
          ]
        }
      ]
    },
    {
      "cell_type": "code",
      "source": [
        "print(prices)"
      ],
      "metadata": {
        "colab": {
          "base_uri": "https://localhost:8080/"
        },
        "id": "ThO8YPGxms5n",
        "outputId": "4f6d42c8-7071-48a0-9687-9cfb667d6666"
      },
      "execution_count": null,
      "outputs": [
        {
          "output_type": "stream",
          "name": "stdout",
          "text": [
            "[[2742.        ]\n",
            " [ 571.        ]\n",
            " [3210.        ]\n",
            " ...\n",
            " [ 782.        ]\n",
            " [1612.        ]\n",
            " [2549.81502774]]\n"
          ]
        }
      ]
    },
    {
      "cell_type": "code",
      "source": [
        "print(normalized_prices)"
      ],
      "metadata": {
        "colab": {
          "base_uri": "https://localhost:8080/"
        },
        "id": "CLSQaa5VmxEl",
        "outputId": "3d932ece-cb39-4bad-b45d-7fa36c660b7e"
      },
      "execution_count": null,
      "outputs": [
        {
          "output_type": "stream",
          "name": "stdout",
          "text": [
            "[[0.03250528]\n",
            " [0.00658939]\n",
            " [0.03809194]\n",
            " ...\n",
            " [0.00910816]\n",
            " [0.01901613]\n",
            " [0.03021111]]\n"
          ]
        }
      ]
    },
    {
      "cell_type": "code",
      "source": [
        "# Split the data into training and testing sets\n",
        "train_size = int(len(normalized_prices) * 0.8)\n",
        "train_data = normalized_prices[:train_size]\n",
        "test_data = normalized_prices[train_size:]"
      ],
      "metadata": {
        "id": "EVgmgjxcj10k"
      },
      "execution_count": null,
      "outputs": []
    },
    {
      "cell_type": "code",
      "source": [
        "# Function to create input sequences and target values\n",
        "def create_sequences(data, window_size):\n",
        "    X, y = [], []\n",
        "    for i in range(len(data) - window_size):\n",
        "        X.append(data[i:i+window_size])\n",
        "        y.append(data[i+window_size])\n",
        "    return np.array(X), np.array(y)"
      ],
      "metadata": {
        "id": "P8CQcfklj6vk"
      },
      "execution_count": null,
      "outputs": []
    },
    {
      "cell_type": "code",
      "source": [
        "# Define the window size for input sequences\n",
        "window_size = 10\n",
        "\n",
        "# Create input sequences and target values\n",
        "X_train, y_train = create_sequences(train_data, window_size)\n",
        "X_test, y_test = create_sequences(test_data, window_size)"
      ],
      "metadata": {
        "id": "sDKBk3iFj8Dc"
      },
      "execution_count": null,
      "outputs": []
    },
    {
      "cell_type": "code",
      "source": [
        "# Create the LSTM model\n",
        "model = Sequential()\n",
        "model.add(LSTM(64, input_shape=(window_size, 1)))\n",
        "model.add(Dense(1))\n",
        "model.compile(loss='mean_squared_error', optimizer=Adam(learning_rate=0.001))\n",
        "\n",
        "# Train the model\n",
        "history = model.fit(X_train, y_train, epochs=50, batch_size=32, validation_data=(X_test, y_test))"
      ],
      "metadata": {
        "colab": {
          "base_uri": "https://localhost:8080/"
        },
        "id": "V3vFK2kbj9_0",
        "outputId": "5213b503-7f89-479f-d145-5adf28dd70b5"
      },
      "execution_count": null,
      "outputs": [
        {
          "metadata": {
            "tags": null
          },
          "name": "stdout",
          "output_type": "stream",
          "text": [
            "Epoch 1/50\n"
          ]
        },
        {
          "metadata": {
            "tags": null
          },
          "name": "stderr",
          "output_type": "stream",
          "text": [
            "Exception ignored in: <function _xla_gc_callback at 0x7f2b354ca950>\n",
            "Traceback (most recent call last):\n",
            "  File \"/usr/local/lib/python3.10/dist-packages/jax/_src/lib/__init__.py\", line 103, in _xla_gc_callback\n",
            "    def _xla_gc_callback(*args):\n",
            "KeyboardInterrupt: \n"
          ]
        },
        {
          "output_type": "stream",
          "name": "stdout",
          "text": [
            "29507/29507 [==============================] - 254s 7ms/step - loss: 0.0014 - val_loss: 0.0015\n",
            "Epoch 2/50\n",
            "29507/29507 [==============================] - 182s 6ms/step - loss: 0.0014 - val_loss: 0.0015\n",
            "Epoch 3/50\n",
            "29507/29507 [==============================] - 181s 6ms/step - loss: 0.0014 - val_loss: 0.0015\n",
            "Epoch 4/50\n",
            "29507/29507 [==============================] - 180s 6ms/step - loss: 0.0012 - val_loss: 0.0015\n",
            "Epoch 5/50\n",
            "29507/29507 [==============================] - 173s 6ms/step - loss: 0.0011 - val_loss: 0.0014\n",
            "Epoch 6/50\n",
            "29507/29507 [==============================] - 178s 6ms/step - loss: 8.4570e-04 - val_loss: 0.0013\n",
            "Epoch 7/50\n",
            "29507/29507 [==============================] - 189s 6ms/step - loss: 6.2442e-04 - val_loss: 9.0204e-04\n",
            "Epoch 8/50\n",
            " 4415/29507 [===>..........................] - ETA: 2:27 - loss: 5.5622e-04"
          ]
        }
      ]
    },
    {
      "cell_type": "code",
      "source": [
        "# Plot the training and validation loss\n",
        "plt.plot(history.history['loss'], label='Training Loss')\n",
        "plt.plot(history.history['val_loss'], label='Validation Loss')\n",
        "plt.xlabel('Epochs')\n",
        "plt.ylabel('Loss')\n",
        "plt.legend()\n",
        "plt.show()"
      ],
      "metadata": {
        "colab": {
          "base_uri": "https://localhost:8080/",
          "height": 449
        },
        "id": "lp2Dgr4Sj_vR",
        "outputId": "2a90fe2a-b4e6-46ea-b66f-243100bb5ce6"
      },
      "execution_count": null,
      "outputs": [
        {
          "output_type": "display_data",
          "data": {
            "text/plain": [
              "<Figure size 640x480 with 1 Axes>"
            ],
            "image/png": "[encoded data removed]"
          },
          "metadata": {}
        }
      ]
    },
    {
      "cell_type": "code",
      "source": [
        "# Evaluate the model on the test set\n",
        "mse = model.evaluate(X_test, y_test)\n",
        "print(f\"Mean Squared Error on Test Set: {mse}\")\n",
        "\n",
        "# Make predictions on the test set\n",
        "predictions = model.predict(X_test)\n",
        "\n",
        "# Inverse transform the predictions and actual values to their original scale\n",
        "predicted_prices = scaler.inverse_transform(predictions)\n",
        "actual_prices = scaler.inverse_transform(y_test)\n",
        "\n",
        "# Plot the predicted and actual prices\n",
        "plt.plot(predicted_prices, label='Predicted Prices')\n",
        "plt.plot(actual_prices, label='Actual Prices')\n",
        "plt.xlabel('Days')\n",
        "plt.ylabel('Stock Price')\n",
        "plt.legend()\n",
        "plt.show()"
      ],
      "metadata": {
        "colab": {
          "base_uri": "https://localhost:8080/",
          "height": 504
        },
        "id": "_yld_8EtkBhV",
        "outputId": "86e42988-249a-4853-c751-ba2e4701ccfa"
      },
      "execution_count": null,
      "outputs": [
        {
          "output_type": "stream",
          "name": "stdout",
          "text": [
            "425/425 [==============================] - 1s 2ms/step - loss: nan\n",
            "Mean Squared Error on Test Set: nan\n",
            "425/425 [==============================] - 1s 2ms/step\n"
          ]
        },
        {
          "output_type": "display_data",
          "data": {
            "text/plain": [
              "<Figure size 640x480 with 1 Axes>"
            ],
            "image/png": "[encoded data removed]"
          },
          "metadata": {}
        }
      ]
    }
  ]
}