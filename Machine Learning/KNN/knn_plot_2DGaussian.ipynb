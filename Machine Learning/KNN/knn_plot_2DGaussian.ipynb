{
  "nbformat": 4,
  "nbformat_minor": 0,
  "metadata": {
    "colab": {
      "provenance": []
    },
    "kernelspec": {
      "name": "python3",
      "display_name": "Python 3"
    },
    "language_info": {
      "name": "python"
    }
  },
  "cells": [
    {
      "cell_type": "code",
      "execution_count": null,
      "metadata": {
        "id": "O6-zL7SyE1EK"
      },
      "outputs": [],
      "source": [
        "import cv2 as cv\n",
        "import numpy as np\n",
        "import matplotlib.pyplot as plt\n",
        "from sklearn.model_selection import train_test_split\n",
        "import math"
      ]
    },
    {
      "cell_type": "markdown",
      "source": [
        "#Create Training"
      ],
      "metadata": {
        "id": "IMkO5UEyHMYN"
      }
    },
    {
      "cell_type": "code",
      "source": [
        "number_points = 50\n",
        "\n",
        "meanR = (20, 30) #mean_x, mean_y\n",
        "covR = [[3, 0], [0, 10]] #s_x = 3, s_y = 10\n",
        "dataR = np.random.multivariate_normal(meanR, covR, number_points)\n",
        "\n",
        "meanB = (40, 40)\n",
        "covB = [[10, 0], [0, 10]]\n",
        "dataB = np.random.multivariate_normal(meanB, covB, number_points)\n",
        "\n",
        "meanY = (50, 40) \n",
        "covY = [[15, 0], [0, 15]] \n",
        "dataY = np.random.multivariate_normal(meanY, covY, number_points)\n",
        "\n",
        "testsize = 0.3\n",
        "train_R, test_R, train_B, test_B, train_Y, test_Y = train_test_split(dataR, dataB, dataY, test_size=testsize, random_state=0)\n",
        "\n",
        "train_data = np.concatenate((train_R, train_B, train_Y), axis=0)\n",
        "train_data = train_data.astype(np.float32)\n",
        "test_data = np.concatenate((test_R, test_B, test_Y), axis=0)\n",
        "test_data = test_data.astype(np.float32)"
      ],
      "metadata": {
        "id": "WKDL-RC_HRAy"
      },
      "execution_count": null,
      "outputs": []
    },
    {
      "cell_type": "code",
      "source": [
        "#matplotlib.pyplot.scatter(x, y, s=None, c=None, marker=None, ...)\n",
        "fig = plt.figure(figsize=(8, 8)) #8 inch by 8 inch plot size\n",
        "plt.xlim(0, 80) #x min and max\n",
        "plt.ylim(0, 80) #y min and max\n",
        "plt.scatter(train_R[:, 0],train_R[:, 1], 80,'r','^')\n",
        "plt.scatter(train_B[:,0],train_B[:,1],80,'b','s')\n",
        "plt.scatter(train_Y[:,0],train_Y[:,1],80,'y','*')\n",
        "plt.show()"
      ],
      "metadata": {
        "id": "8UBVmMQ_Hhhi",
        "colab": {
          "base_uri": "https://localhost:8080/",
          "height": 487
        },
        "outputId": "acd88eff-4f78-4965-e905-8f6c3107055c"
      },
      "execution_count": null,
      "outputs": [
        {
          "output_type": "display_data",
          "data": {
            "text/plain": [
              "<Figure size 576x576 with 1 Axes>"
            ],
            "image/png": "[encoded data removed]"
          },
          "metadata": {
            "needs_background": "light"
          }
        }
      ]
    },
    {
      "cell_type": "markdown",
      "source": [
        "#Test Unknown Data"
      ],
      "metadata": {
        "id": "QG4sK2AKHjqo"
      }
    },
    {
      "cell_type": "code",
      "source": [
        "plt.scatter(train_R[:, 0],train_R[:, 1], 80,'r','^')\n",
        "plt.scatter(train_B[:,0],train_B[:,1],80,'b','s')\n",
        "plt.scatter(train_Y[:,0],train_Y[:,1],80,'y','*')\n",
        "plt.scatter(test_data[:,0],test_data[:,1],80,'g','+') #green, circle\n",
        "plt.show()"
      ],
      "metadata": {
        "id": "UBZpm3KiJprO",
        "colab": {
          "base_uri": "https://localhost:8080/",
          "height": 265
        },
        "outputId": "94e9a488-9429-4679-8762-5cc596322383"
      },
      "execution_count": null,
      "outputs": [
        {
          "output_type": "display_data",
          "data": {
            "text/plain": [
              "<Figure size 432x288 with 1 Axes>"
            ],
            "image/png": "[encoded data removed]"
          },
          "metadata": {
            "needs_background": "light"
          }
        }
      ]
    },
    {
      "cell_type": "code",
      "source": [
        "responses = np.concatenate((np.full(int(number_points*(1-testsize)), 0.0), np.full(int(number_points*(1-testsize)), 1.0), np.full(int(number_points*(1-testsize)), 2.0)))\n",
        "responses = np.array(responses.reshape(-1, 1), dtype=np.float32)\n",
        "expect_result = np.concatenate((np.full(int(number_points*testsize), 0.0), np.full(int(number_points*testsize), 1.0), np.full(int(number_points*testsize), 2.0)))\n",
        "expect_result = np.array(expect_result.reshape(-1, 1), dtype=np.float32)\n",
        "colorName = np.array(['Red', 'Blue', 'Yellow'])\n",
        "\n",
        "# print(\"train_data shape:\", train_data.shape)\n",
        "# print(\"responses shape:\", responses.shape)\n",
        "for k in range(1, int(math.sqrt(int(number_points*testsize)*3))):\n",
        "  knn = cv.ml.KNearest_create()\n",
        "  knn.train(train_data, cv.ml.ROW_SAMPLE, responses)\n",
        "  ret, results, neighbors, dist = knn.findNearest(test_data, k)\n",
        "\n",
        "  '''\n",
        "  resultColor = []\n",
        "  for result in results:  \n",
        "      if result[0] == 0: \n",
        "          resultColor.append(\"Red\")\n",
        "      else:\n",
        "          resultColor.append(\"Blue\")\n",
        "\n",
        "  neighborColors = []\n",
        "  for neighbor in neighbors[0]:  \n",
        "      if neighbor == 0: \n",
        "          neighborColors.append(\"Red\")\n",
        "      else:\n",
        "          neighborColors.append(\"Blue\")\n",
        "  '''\n",
        "  \n",
        "  correct = 0\n",
        "  for i in range(len(test_data)):\n",
        "    resultColor = colorName[results[i].astype(int)]\n",
        "    neighborColors = colorName[neighbors[i].astype(int)]\n",
        "\n",
        "    # print( \"result color:  {}\\n\".format(resultColor))\n",
        "    # print( \"neighbors:  {}\\n\".format(neighbors[i]))\n",
        "    # print( \"neighbor colors:  {}\\n\".format(neighborColors))\n",
        "    # print( \"neighbor distances:  {}\\n\".format(dist[i]))\n",
        "    if (results[i].astype(int) == expect_result[i].astype(int)):\n",
        "      correct += 1\n",
        "\n",
        "  accuracy_percent = correct / len(expect_result)\n",
        "  print(\"for K =\", k, \"accuray percent is\",accuracy_percent)\n"
      ],
      "metadata": {
        "id": "JYA4emSNLBr7",
        "colab": {
          "base_uri": "https://localhost:8080/"
        },
        "outputId": "7dc72d7c-c91c-4b2f-c62b-ab65dc554072"
      },
      "execution_count": null,
      "outputs": [
        {
          "output_type": "stream",
          "name": "stdout",
          "text": [
            "for K = 1  accuray percent is 0.9333333333333333\n",
            "for K = 2  accuray percent is 0.9333333333333333\n",
            "for K = 3  accuray percent is 0.9333333333333333\n",
            "for K = 4  accuray percent is 0.9333333333333333\n",
            "for K = 5  accuray percent is 0.9333333333333333\n"
          ]
        }
      ]
    }
  ]
}