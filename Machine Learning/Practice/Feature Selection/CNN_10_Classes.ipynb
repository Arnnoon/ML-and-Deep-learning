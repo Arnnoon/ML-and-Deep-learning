{
  "cells": [
    {
      "cell_type": "code",
      "source": [
        "import tensorflow as tf\n",
        "from tensorflow.keras import datasets, layers, models\n",
        "import matplotlib.pyplot as plt\n",
        "import tarfile\n",
        "import logging\n",
        "import numpy as np\n",
        "from sklearn.model_selection import train_test_split\n",
        "from sklearn.datasets import fetch_lfw_people\n",
        "from sklearn.metrics import classification_report, precision_score\n",
        "\n",
        "!wget http://vis-www.cs.umass.edu/lfw/lfw-funneled.tgz \n",
        "tfile = tarfile.open(\"lfw-funneled.tgz\", \"r:gz\")\n",
        "tfile.extractall(\".\")\n"
      ],
      "metadata": {
        "id": "5HJyj4e8Axq_",
        "outputId": "cbd7c074-9f10-432a-b3ad-d9677e529c7b",
        "colab": {
          "base_uri": "https://localhost:8080/"
        }
      },
      "execution_count": 1,
      "outputs": [
        {
          "output_type": "stream",
          "name": "stdout",
          "text": [
            "--2023-06-07 08:41:12--  http://vis-www.cs.umass.edu/lfw/lfw-funneled.tgz\n",
            "Resolving vis-www.cs.umass.edu (vis-www.cs.umass.edu)... 128.119.244.95\n",
            "Connecting to vis-www.cs.umass.edu (vis-www.cs.umass.edu)|128.119.244.95|:80... connected.\n",
            "HTTP request sent, awaiting response... 200 OK\n",
            "Length: 243346528 (232M) [application/x-gzip]\n",
            "Saving to: ‘lfw-funneled.tgz’\n",
            "\n",
            "lfw-funneled.tgz    100%[===================>] 232.07M   107MB/s    in 2.2s    \n",
            "\n",
            "2023-06-07 08:41:14 (107 MB/s) - ‘lfw-funneled.tgz’ saved [243346528/243346528]\n",
            "\n"
          ]
        }
      ]
    },
    {
      "cell_type": "code",
      "source": [
        "logging.basicConfig(level=logging.INFO, format='%(asctime)s %(message)s')\n",
        "\n",
        "lfw_people = fetch_lfw_people(min_faces_per_person=70, resize=0.4)\n",
        "\n",
        "X_train, X_test, y_train, y_test = train_test_split(lfw_people.images, lfw_people.target, test_size=0.2, random_state=42)\n",
        "\n",
        "X_train = X_train / 255.0\n",
        "X_test = X_test / 255.0\n"
      ],
      "metadata": {
        "id": "PjWWFjr8A10e"
      },
      "execution_count": 2,
      "outputs": []
    },
    {
      "cell_type": "code",
      "source": [
        "model = models.Sequential()\n",
        "model.add(layers.Conv2D(32, (3, 3), activation='relu', input_shape=(X_train.shape[1], X_train.shape[2], 1)))\n",
        "model.add(layers.MaxPooling2D((2, 2)))\n",
        "model.add(layers.Flatten())\n",
        "model.add(layers.Dense(64, activation='relu'))\n",
        "model.add(layers.Dense(len(lfw_people.target_names)))\n",
        "\n",
        "model.compile(optimizer='adam',\n",
        "              loss=tf.keras.losses.SparseCategoricalCrossentropy(from_logits=True),\n",
        "              metrics=['accuracy'])"
      ],
      "metadata": {
        "id": "hpRl0XPQA4HF"
      },
      "execution_count": 3,
      "outputs": []
    },
    {
      "cell_type": "code",
      "source": [
        "history = model.fit(X_train[:, :, :, np.newaxis], y_train, epochs=20, validation_data=(X_test[:, :, :, np.newaxis], y_test))\n",
        "\n",
        "test_loss, test_acc = model.evaluate(X_test[:, :, :, np.newaxis], y_test)\n",
        "predictions = model.predict(X_test[:, :, :, np.newaxis])\n",
        "predicted_labels = np.argmax(predictions, axis=1)\n",
        "\n",
        "target_names = lfw_people.target_names\n",
        "classification_rep = classification_report(y_test, predicted_labels, target_names=target_names)\n",
        "precision = precision_score(y_test, predicted_labels, average=None)\n",
        "macro_precision = precision_score(y_test, predicted_labels, average='macro')\n"
      ],
      "metadata": {
        "id": "h18hp2VgA7Au",
        "outputId": "49c30cb5-7185-465a-ca1b-320bc5d329d1",
        "colab": {
          "base_uri": "https://localhost:8080/"
        }
      },
      "execution_count": 4,
      "outputs": [
        {
          "output_type": "stream",
          "name": "stdout",
          "text": [
            "Epoch 1/20\n",
            "33/33 [==============================] - 3s 56ms/step - loss: 1.7773 - accuracy: 0.3893 - val_loss: 1.6215 - val_accuracy: 0.4612\n",
            "Epoch 2/20\n",
            "33/33 [==============================] - 2s 48ms/step - loss: 1.7141 - accuracy: 0.3990 - val_loss: 1.6108 - val_accuracy: 0.4612\n",
            "Epoch 3/20\n",
            "33/33 [==============================] - 1s 42ms/step - loss: 1.7152 - accuracy: 0.3990 - val_loss: 1.6329 - val_accuracy: 0.4612\n",
            "Epoch 4/20\n",
            "33/33 [==============================] - 1s 41ms/step - loss: 1.7144 - accuracy: 0.3990 - val_loss: 1.5925 - val_accuracy: 0.4612\n",
            "Epoch 5/20\n",
            "33/33 [==============================] - 1s 42ms/step - loss: 1.7128 - accuracy: 0.3990 - val_loss: 1.6130 - val_accuracy: 0.4612\n",
            "Epoch 6/20\n",
            "33/33 [==============================] - 1s 44ms/step - loss: 1.7083 - accuracy: 0.3990 - val_loss: 1.5940 - val_accuracy: 0.4612\n",
            "Epoch 7/20\n",
            "33/33 [==============================] - 2s 71ms/step - loss: 1.7128 - accuracy: 0.3990 - val_loss: 1.5956 - val_accuracy: 0.4612\n",
            "Epoch 8/20\n",
            "33/33 [==============================] - 2s 61ms/step - loss: 1.7112 - accuracy: 0.3990 - val_loss: 1.6765 - val_accuracy: 0.4612\n",
            "Epoch 9/20\n",
            "33/33 [==============================] - 1s 42ms/step - loss: 1.7194 - accuracy: 0.3990 - val_loss: 1.6676 - val_accuracy: 0.4612\n",
            "Epoch 10/20\n",
            "33/33 [==============================] - 2s 46ms/step - loss: 1.7154 - accuracy: 0.3990 - val_loss: 1.6168 - val_accuracy: 0.4612\n",
            "Epoch 11/20\n",
            "33/33 [==============================] - 1s 42ms/step - loss: 1.7085 - accuracy: 0.3990 - val_loss: 1.6089 - val_accuracy: 0.4612\n",
            "Epoch 12/20\n",
            "33/33 [==============================] - 2s 47ms/step - loss: 1.7065 - accuracy: 0.3990 - val_loss: 1.6198 - val_accuracy: 0.4612\n",
            "Epoch 13/20\n",
            "33/33 [==============================] - 1s 44ms/step - loss: 1.7160 - accuracy: 0.3990 - val_loss: 1.6161 - val_accuracy: 0.4612\n",
            "Epoch 14/20\n",
            "33/33 [==============================] - 1s 44ms/step - loss: 1.7053 - accuracy: 0.3990 - val_loss: 1.6146 - val_accuracy: 0.4612\n",
            "Epoch 15/20\n",
            "33/33 [==============================] - 2s 69ms/step - loss: 1.7105 - accuracy: 0.3990 - val_loss: 1.6146 - val_accuracy: 0.4612\n",
            "Epoch 16/20\n",
            "33/33 [==============================] - 2s 63ms/step - loss: 1.7019 - accuracy: 0.3990 - val_loss: 1.5916 - val_accuracy: 0.4612\n",
            "Epoch 17/20\n",
            "33/33 [==============================] - 1s 41ms/step - loss: 1.7117 - accuracy: 0.3990 - val_loss: 1.6126 - val_accuracy: 0.4612\n",
            "Epoch 18/20\n",
            "33/33 [==============================] - 1s 42ms/step - loss: 1.7073 - accuracy: 0.3990 - val_loss: 1.6087 - val_accuracy: 0.4612\n",
            "Epoch 19/20\n",
            "33/33 [==============================] - 1s 41ms/step - loss: 1.7035 - accuracy: 0.3990 - val_loss: 1.6277 - val_accuracy: 0.4612\n",
            "Epoch 20/20\n",
            "33/33 [==============================] - 1s 39ms/step - loss: 1.7146 - accuracy: 0.3990 - val_loss: 1.6197 - val_accuracy: 0.4612\n",
            "9/9 [==============================] - 0s 13ms/step - loss: 1.6197 - accuracy: 0.4612\n",
            "9/9 [==============================] - 0s 11ms/step\n"
          ]
        },
        {
          "output_type": "stream",
          "name": "stderr",
          "text": [
            "/usr/local/lib/python3.10/dist-packages/sklearn/metrics/_classification.py:1344: UndefinedMetricWarning: Precision and F-score are ill-defined and being set to 0.0 in labels with no predicted samples. Use `zero_division` parameter to control this behavior.\n",
            "  _warn_prf(average, modifier, msg_start, len(result))\n",
            "/usr/local/lib/python3.10/dist-packages/sklearn/metrics/_classification.py:1344: UndefinedMetricWarning: Precision and F-score are ill-defined and being set to 0.0 in labels with no predicted samples. Use `zero_division` parameter to control this behavior.\n",
            "  _warn_prf(average, modifier, msg_start, len(result))\n",
            "/usr/local/lib/python3.10/dist-packages/sklearn/metrics/_classification.py:1344: UndefinedMetricWarning: Precision and F-score are ill-defined and being set to 0.0 in labels with no predicted samples. Use `zero_division` parameter to control this behavior.\n",
            "  _warn_prf(average, modifier, msg_start, len(result))\n",
            "/usr/local/lib/python3.10/dist-packages/sklearn/metrics/_classification.py:1344: UndefinedMetricWarning: Precision is ill-defined and being set to 0.0 in labels with no predicted samples. Use `zero_division` parameter to control this behavior.\n",
            "  _warn_prf(average, modifier, msg_start, len(result))\n",
            "/usr/local/lib/python3.10/dist-packages/sklearn/metrics/_classification.py:1344: UndefinedMetricWarning: Precision is ill-defined and being set to 0.0 in labels with no predicted samples. Use `zero_division` parameter to control this behavior.\n",
            "  _warn_prf(average, modifier, msg_start, len(result))\n"
          ]
        }
      ]
    },
    {
      "cell_type": "code",
      "source": [
        "print(\"Classification Report:\")\n",
        "print(classification_rep)\n",
        "print(\"Macro Average Precision:\", macro_precision)"
      ],
      "metadata": {
        "id": "g-Mw7-91A9OV",
        "outputId": "6261977e-7731-4575-a84e-f686734e456c",
        "colab": {
          "base_uri": "https://localhost:8080/"
        }
      },
      "execution_count": 6,
      "outputs": [
        {
          "output_type": "stream",
          "name": "stdout",
          "text": [
            "Classification Report:\n",
            "                   precision    recall  f1-score   support\n",
            "\n",
            "     Ariel Sharon       0.00      0.00      0.00        11\n",
            "     Colin Powell       0.00      0.00      0.00        47\n",
            "  Donald Rumsfeld       0.00      0.00      0.00        22\n",
            "    George W Bush       0.46      1.00      0.63       119\n",
            "Gerhard Schroeder       0.00      0.00      0.00        19\n",
            "      Hugo Chavez       0.00      0.00      0.00        13\n",
            "       Tony Blair       0.00      0.00      0.00        27\n",
            "\n",
            "         accuracy                           0.46       258\n",
            "        macro avg       0.07      0.14      0.09       258\n",
            "     weighted avg       0.21      0.46      0.29       258\n",
            "\n",
            "Macro Average Precision: 0.06589147286821705\n"
          ]
        }
      ]
    }
  ],
  "metadata": {
    "colab": {
      "provenance": []
    },
    "kernelspec": {
      "display_name": "Python 3",
      "name": "python3"
    },
    "language_info": {
      "name": "python"
    }
  },
  "nbformat": 4,
  "nbformat_minor": 0
}