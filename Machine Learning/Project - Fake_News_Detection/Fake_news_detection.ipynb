{
 "cells": [
  {
   "cell_type": "code",
   "execution_count": null,
   "metadata": {},
   "outputs": [],
   "source": [
    "import pandas as pd\n",
    "import numpy as np\n",
    "import matplotlib.pyplot as plt\n",
    "import seaborn as sns \n",
    "from sklearn.feature_extraction.text import CountVectorizer\n",
    "from sklearn.feature_extraction.text import TfidfTransformer\n",
    "from sklearn.feature_extraction.text import TfidfVectorizer\n",
    "from sklearn import feature_extraction, linear_model, model_selection, preprocessing\n",
    "from sklearn.metrics import accuracy_score\n",
    "from sklearn.model_selection import train_test_split\n",
    "from sklearn.pipeline import Pipeline\n",
    "from sklearn.svm import SVC\n",
    "from sklearn.utils import shuffle\n",
    "\n",
    "import nltk\n",
    "from nltk.tokenize import word_tokenize\n",
    "from nltk.corpus import stopwords\n",
    "from nltk.stem import PorterStemmer\n",
    "\n",
    "# download necessary resources\n",
    "nltk.download('punkt')\n",
    "nltk.download('stopwords')\n",
    "\n",
    "# Load the dataset\n",
    "fake = pd.read_csv(\"Fake.csv\")\n",
    "true = pd.read_csv(\"True.csv\")\n",
    "\n",
    "# Add flag to track fake and real\n",
    "fake['target'] = 'fake'\n",
    "true['target'] = 'true'\n",
    "\n",
    "# Concatenate dataframes\n",
    "data = pd.concat([fake, true]).reset_index(drop = True)\n",
    "\n",
    "# Shuffle the data\n",
    "data = shuffle(data)\n",
    "data = data.reset_index(drop=True)\n",
    "data.drop([\"date\"],axis=1,inplace=True)\n",
    "data.drop([\"title\"],axis=1,inplace=True)"
   ]
  },
  {
   "cell_type": "code",
   "execution_count": null,
   "metadata": {},
   "outputs": [],
   "source": [
    "# define a function to clean the text\n",
    "def clean_text(text):\n",
    "    # remove punctuations and numbers\n",
    "    cleaned_text = ''.join(e for e in text if e.isalpha() or e.isspace())\n",
    "    # convert to lowercase\n",
    "    cleaned_text = cleaned_text.lower()\n",
    "    # tokenize the text into words\n",
    "    words = word_tokenize(cleaned_text)\n",
    "    # remove stopwords\n",
    "    words = [word for word in words if word not in stopwords.words('english')]\n",
    "    # stem the remaining words\n",
    "    stemmer = PorterStemmer()\n",
    "    words = [stemmer.stem(word) for word in words]\n",
    "    # join the stemmed words back into a string\n",
    "    cleaned_text = ' '.join(words)\n",
    "    # print(cleaned_text)\n",
    "    return cleaned_text\n",
    "\n",
    "temp = data\n",
    "\n",
    "# Clean data\n",
    "temp = temp.dropna()\n",
    "temp[\"text\"] = temp[\"text\"].apply(clean_text)"
   ]
  },
  {
   "cell_type": "code",
   "execution_count": null,
   "metadata": {},
   "outputs": [],
   "source": [
    "vectorizer = TfidfVectorizer()\n",
    "vector_temp = vectorizer.fit_transform(temp)\n",
    "\n",
    "# Compute the correlation between the variables\n",
    "correlation = vector_temp.corr()   \n",
    "\n",
    "# Display the correlation matrix as a heatmap\n",
    "sns.heatmap(correlation, annot=True, cmap='coolwarm')\n",
    "plt.show()"
   ]
  }
 ],
 "metadata": {
  "kernelspec": {
   "display_name": "Python 3",
   "language": "python",
   "name": "python3"
  },
  "language_info": {
   "codemirror_mode": {
    "name": "ipython",
    "version": 3
   },
   "file_extension": ".py",
   "mimetype": "text/x-python",
   "name": "python",
   "nbconvert_exporter": "python",
   "pygments_lexer": "ipython3",
   "version": "3.10.11"
  },
  "orig_nbformat": 4
 },
 "nbformat": 4,
 "nbformat_minor": 2
}
